{
 "cells": [
  {
   "cell_type": "markdown",
   "metadata": {},
   "source": [
    "<font size=\"6px\" font color=\"blue\" face=\"Times New Roman\"><b>Aprendizado de Máquina</b></font>"
   ]
  },
  {
   "cell_type": "markdown",
   "metadata": {},
   "source": [
    "Problemas de aprendizado de máquina consideram um conjundo de $n-$amostras de um conjunto de dados a aprtir do qual se tenta fazer predições em um conjunto de dados não conhecido. Caso cada amostra tenha mais de um número de entrada, ou uma entrada multi-dimensional  ($\\href{https://en.wikipedia.org/wiki/Multivariate_random_variable}{VRM}$) é dito possui diversas variáveis ou atributos."
   ]
  },
  {
   "cell_type": "markdown",
   "metadata": {},
   "source": [
    "--------------------------------------------------------------------------------------------------------------------------------------------------------------------------------------------------------------------------------------------------"
   ]
  },
  {
   "cell_type": "code",
   "execution_count": 1,
   "metadata": {
    "collapsed": true
   },
   "outputs": [],
   "source": [
    "#################################PACOTES#################################\n",
    "% matplotlib inline\n",
    "import numpy as np\n",
    "from numpy.linalg import inv\n",
    "import math \n",
    "from math import sqrt\n",
    "import pylab as py\n",
    "import matplotlib\n",
    "import matplotlib.pyplot as plt\n",
    "import random\n",
    "from random import shuffle\n",
    "import scipy as sp\n",
    "from scipy import misc\n",
    "from IPython.display import Latex\n",
    "import time\n",
    "from time import gmtime, strftime, localtime\n",
    "import datetime\n",
    "import pickle\n",
    "#--------------------------------------------------------\n",
    "from sklearn import datasets\n",
    "from sklearn import svm\n",
    "from sklearn import datasets\n",
    "from sklearn.externals import joblib\n",
    "from sklearn import random_projection\n",
    "from sklearn import datasets\n",
    "from sklearn.svm import SVC\n",
    "from sklearn.svm import SVC\n",
    "from sklearn.multiclass import OneVsRestClassifier\n",
    "from sklearn.preprocessing import LabelBinarizer\n",
    "from sklearn.preprocessing import MultiLabelBinarizer\n",
    "#########################################################################"
   ]
  },
  {
   "cell_type": "markdown",
   "metadata": {},
   "source": [
    "--------------------------------------------------------------------------------------------------------------------------------------------------------------------------------------------------------------------------------------------------"
   ]
  },
  {
   "cell_type": "markdown",
   "metadata": {},
   "source": [
    "<font size=\"4px\" font color=\"black\" face=\"Times New Roman\"><b>Aprendizado não-supervisionado</b></font>"
   ]
  },
  {
   "cell_type": "markdown",
   "metadata": {},
   "source": [
    "O aprendizado não supervisionado consiste em um conjunto de vetores de entrada $X$ sem qualquer valor correspondente alvo. O objetivo da resolução dessa problemática é descobrir qual é o grupo de exemplos similares dentro do dado, que é chamado de  $\\href{https://en.wikipedia.org/wiki/Cluster_analysis}{clusterização}$, ou determinar a distribuição de dados dentro do espaço conhecido como estimativa de densidade, ou projetar o dado de um espaço multi-dimensional para um espaço de duas ou três dimensões para fins de vizualização."
   ]
  },
  {
   "cell_type": "code",
   "execution_count": 2,
   "metadata": {
    "collapsed": false,
    "scrolled": true
   },
   "outputs": [
    {
     "name": "stdout",
     "output_type": "stream",
     "text": [
      "[[  0.   0.   5. ...,   0.   0.   0.]\n",
      " [  0.   0.   0. ...,  10.   0.   0.]\n",
      " [  0.   0.   0. ...,  16.   9.   0.]\n",
      " ..., \n",
      " [  0.   0.   1. ...,   6.   0.   0.]\n",
      " [  0.   0.   2. ...,  12.   0.   0.]\n",
      " [  0.   0.  10. ...,  12.   1.   0.]]\n",
      "[0 1 2 ..., 8 9 8]\n",
      "[[[  0.   0.   5. ...,   1.   0.   0.]\n",
      "  [  0.   0.  13. ...,  15.   5.   0.]\n",
      "  [  0.   3.  15. ...,  11.   8.   0.]\n",
      "  ..., \n",
      "  [  0.   4.  11. ...,  12.   7.   0.]\n",
      "  [  0.   2.  14. ...,  12.   0.   0.]\n",
      "  [  0.   0.   6. ...,   0.   0.   0.]]\n",
      "\n",
      " [[  0.   0.   0. ...,   5.   0.   0.]\n",
      "  [  0.   0.   0. ...,   9.   0.   0.]\n",
      "  [  0.   0.   3. ...,   6.   0.   0.]\n",
      "  ..., \n",
      "  [  0.   0.   1. ...,   6.   0.   0.]\n",
      "  [  0.   0.   1. ...,   6.   0.   0.]\n",
      "  [  0.   0.   0. ...,  10.   0.   0.]]\n",
      "\n",
      " [[  0.   0.   0. ...,  12.   0.   0.]\n",
      "  [  0.   0.   3. ...,  14.   0.   0.]\n",
      "  [  0.   0.   8. ...,  16.   0.   0.]\n",
      "  ..., \n",
      "  [  0.   9.  16. ...,   0.   0.   0.]\n",
      "  [  0.   3.  13. ...,  11.   5.   0.]\n",
      "  [  0.   0.   0. ...,  16.   9.   0.]]\n",
      "\n",
      " ..., \n",
      " [[  0.   0.   1. ...,   1.   0.   0.]\n",
      "  [  0.   0.  13. ...,   2.   1.   0.]\n",
      "  [  0.   0.  16. ...,  16.   5.   0.]\n",
      "  ..., \n",
      "  [  0.   0.  16. ...,  15.   0.   0.]\n",
      "  [  0.   0.  15. ...,  16.   0.   0.]\n",
      "  [  0.   0.   2. ...,   6.   0.   0.]]\n",
      "\n",
      " [[  0.   0.   2. ...,   0.   0.   0.]\n",
      "  [  0.   0.  14. ...,  15.   1.   0.]\n",
      "  [  0.   4.  16. ...,  16.   7.   0.]\n",
      "  ..., \n",
      "  [  0.   0.   0. ...,  16.   2.   0.]\n",
      "  [  0.   0.   4. ...,  16.   2.   0.]\n",
      "  [  0.   0.   5. ...,  12.   0.   0.]]\n",
      "\n",
      " [[  0.   0.  10. ...,   1.   0.   0.]\n",
      "  [  0.   2.  16. ...,   1.   0.   0.]\n",
      "  [  0.   0.  15. ...,  15.   0.   0.]\n",
      "  ..., \n",
      "  [  0.   4.  16. ...,  16.   6.   0.]\n",
      "  [  0.   8.  16. ...,  16.   8.   0.]\n",
      "  [  0.   1.   8. ...,  12.   1.   0.]]]\n"
     ]
    }
   ],
   "source": [
    "#carregando variáveis\n",
    "iris = datasets.load_iris()\n",
    "digits = datasets.load_digits() #dataset é um dicionário de termos. O dado propriamente dito está na extensão .data e na .target\n",
    "\n",
    "print(digits.data)\n",
    "print(digits.target)\n",
    "print(digits.images)\n"
   ]
  },
  {
   "cell_type": "markdown",
   "metadata": {},
   "source": [
    "$\\textbf{Aprendizado e predição}$\n",
    "\n",
    "No caso do conjunto de dados chamado $\\textit{digit}$, o problema é predizer uma dada uma imagem qual dígito a representa. São dados amostras de cada uma das $10$ possibilidades de classes (variando do dígito $0$ ao dígito $9$) em cada um são ajustados estimadores afim de prever classes de cada uma das amostras não supervionadas.  \n"
   ]
  },
  {
   "cell_type": "markdown",
   "metadata": {},
   "source": [
    "No Scikit-learn, um estimador usado em problemas de classificação é um objeto em Python que implementa os métodos ajuste fit(x,y), e predito predict(T)."
   ]
  },
  {
   "cell_type": "markdown",
   "metadata": {},
   "source": [
    "Um exemplo de estimador é a classe class sklearn.svm.SVC que implementa a classificação do vetor de suporte ($\\href{https://en.wikipedia.org/wiki/Support_vector_machine}{support vector classification}$). A construção de um estimador toma como argumentos os parâmetros do modelo, mas, por enquanto, o estimador será considerado uma caixa preta: "
   ]
  },
  {
   "cell_type": "code",
   "execution_count": 3,
   "metadata": {
    "collapsed": false
   },
   "outputs": [],
   "source": [
    " clf = svm.SVC(gamma=0.001, C=100.)"
   ]
  },
  {
   "cell_type": "markdown",
   "metadata": {},
   "source": [
    "O classificador é chamado de clf. E agora precisa ser ajustado ao modelo, ou seja ele deve aprender com o modelo. Isto é feito passando o nosso conjunto de treinamento para o método de ajuste. Como conjuto de treinamento serão usadas todas as imagens do nosso conjunto de dados além do último. Nós selecionamos esse conjunto de treinamento através do comando [:-1], o que produz um novo arrranjo (array) que contém todos mas o última entrada de digits.data:"
   ]
  },
  {
   "cell_type": "code",
   "execution_count": 4,
   "metadata": {
    "collapsed": false
   },
   "outputs": [
    {
     "data": {
      "text/plain": [
       "SVC(C=100.0, cache_size=200, class_weight=None, coef0=0.0,\n",
       "  decision_function_shape=None, degree=3, gamma=0.001, kernel='rbf',\n",
       "  max_iter=-1, probability=False, random_state=None, shrinking=True,\n",
       "  tol=0.001, verbose=False)"
      ]
     },
     "execution_count": 4,
     "metadata": {},
     "output_type": "execute_result"
    }
   ],
   "source": [
    "#Escolhendo os parâmetros do modelo\n",
    "clf.fit(digits.data[:-1], digits.target[:-1])  "
   ]
  },
  {
   "cell_type": "markdown",
   "metadata": {},
   "source": [
    "Agora pode-se prever valores, em particular podemos fazer o classificador dizer qual é o dígito da nossa última imagem. "
   ]
  },
  {
   "cell_type": "code",
   "execution_count": 5,
   "metadata": {
    "collapsed": false
   },
   "outputs": [
    {
     "data": {
      "text/plain": [
       "array([8])"
      ]
     },
     "execution_count": 5,
     "metadata": {},
     "output_type": "execute_result"
    }
   ],
   "source": [
    "clf.predict(digits.data[-1:])"
   ]
  },
  {
   "cell_type": "code",
   "execution_count": 10,
   "metadata": {
    "collapsed": false
   },
   "outputs": [
    {
     "name": "stdout",
     "output_type": "stream",
     "text": [
      "Automatically created module for IPython interactive environment\n"
     ]
    },
    {
     "data": {
      "image/png": "[encoded data removed]",
      "text/plain": [
       "<matplotlib.figure.Figure at 0x7f7234092510>"
      ]
     },
     "metadata": {},
     "output_type": "display_data"
    }
   ],
   "source": [
    "#Plotando a figura predita\n",
    "\n",
    "print(__doc__)\n",
    "\n",
    "\n",
    "# Code source: Gaël Varoquaux\n",
    "# Modified for documentation by Jaques Grobler\n",
    "# License: BSD 3 clause\n",
    "\n",
    "from sklearn import datasets\n",
    "\n",
    "import matplotlib.pyplot as plt\n",
    "\n",
    "#Load the digits dataset\n",
    "digits = datasets.load_digits()\n",
    "\n",
    "#Display the first digit\n",
    "plt.figure(1, figsize=(3, 3))\n",
    "plt.imshow(digits.images[-1], cmap=plt.cm.gray_r, interpolation='nearest')\n",
    "plt.show()\n",
    "\n"
   ]
  },
  {
   "cell_type": "code",
   "execution_count": 7,
   "metadata": {
    "collapsed": false
   },
   "outputs": [
    {
     "data": {
      "text/plain": [
       "0"
      ]
     },
     "execution_count": 7,
     "metadata": {},
     "output_type": "execute_result"
    }
   ],
   "source": [
    "#Modelo de Persistência \n",
    "\n",
    "clf = svm.SVC()\n",
    "iris = datasets.load_iris()\n",
    "X, y = iris.data, iris.target\n",
    "clf.fit(X, y)  \n",
    "\n",
    "\n",
    "s = pickle.dumps(clf)\n",
    "clf2 = pickle.loads(s)\n",
    "clf2.predict(X[0:1])\n",
    "\n",
    "y[0]"
   ]
  },
  {
   "cell_type": "code",
   "execution_count": 8,
   "metadata": {
    "collapsed": false
   },
   "outputs": [
    {
     "name": "stdout",
     "output_type": "stream",
     "text": [
      "0.00021 seconds\n"
     ]
    }
   ],
   "source": [
    "#####Contagem do Tempo de máquina############\n",
    "start_time = time.clock()#conta o tempo de processamento baseado no clock do processador\n",
    "print time.clock() - start_time, \"seconds\""
   ]
  },
  {
   "cell_type": "code",
   "execution_count": 9,
   "metadata": {
    "collapsed": false
   },
   "outputs": [
    {
     "data": {
      "text/plain": [
       "'Monday, 10 April 2017 at 19:58:42'"
      ]
     },
     "execution_count": 9,
     "metadata": {},
     "output_type": "execute_result"
    }
   ],
   "source": [
    "strftime(\"%A, %d %B %Y at %H:%M:%S\", localtime())"
   ]
  },
  {
   "cell_type": "code",
   "execution_count": null,
   "metadata": {
    "collapsed": true
   },
   "outputs": [],
   "source": []
  }
 ],
 "metadata": {
  "kernelspec": {
   "display_name": "Python 2",
   "language": "python",
   "name": "python2"
  },
  "language_info": {
   "codemirror_mode": {
    "name": "ipython",
    "version": 2
   },
   "file_extension": ".py",
   "mimetype": "text/x-python",
   "name": "python",
   "nbconvert_exporter": "python",
   "pygments_lexer": "ipython2",
   "version": "2.7.13"
  }
 },
 "nbformat": 4,
 "nbformat_minor": 2
}
